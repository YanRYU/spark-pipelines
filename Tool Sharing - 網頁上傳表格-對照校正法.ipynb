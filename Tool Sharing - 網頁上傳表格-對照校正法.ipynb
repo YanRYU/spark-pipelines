{
 "cells": [
  {
   "cell_type": "markdown",
   "metadata": {
    "application/vnd.databricks.v1+cell": {
     "inputWidgets": {},
     "nuid": "fbad6ba1-d32f-49ea-ac35-61b42f569a83",
     "showTitle": false,
     "title": ""
    }
   },
   "source": [
    "#### 緣由：\n",
    "1. 上傳資料至Azure時，需重新賦予每一欄資料型別的資訊(即date type、string type 等)，一般習慣讓spark自動辨認資料型別\n",
    "2. 根據經驗，spark 自動辨認 data type 的方式常出現資料型別辨認錯誤的情況，常見的錯誤如下：\n",
    "  * data_month 欄位的 date type 資料被誤認為 string type 或是 timestamp type\n",
    "  * age 欄位的 integer type 被誤認為 string type\n",
    "3. 某次上傳表格時發現100多個欄位的寬表格並不適合用「手動校正法」(手動一個一個調整會很辛苦也不切實際)，因此為了快速校正辨認錯誤的資料型別而撰寫此筆記本\n",
    "\n",
    "#### 此Notebook用途：\n",
    "* 上傳主表格(main table)後，以相對應的資料型別表(datatype table)來讀入正確的 data type，以此為依據校正主表格的data type之後，再寫入指定的資料庫\n",
    "* **總共要上傳兩個table，但是只會有main table被寫進資料庫；datatype table僅是用來對照資料框架的，不會被寫進資料庫**\n",
    "\n",
    "#### 此Notebook使用方法：\n",
    "* 請clone到自己的Workspace使用，若非必要不須改動程式碼\n",
    "* 將需要上傳的兩份檔案準備好，詳情請見【預先準備】\n",
    "* 順著每一個step的順序執行各cell\n",
    "* **有建立小Widget工具的地方會需要手動去填入需要的參數，填寫完才能繼續跑下一個cell**\n",
    "* 如有任何疑問，請就近尋找單位中會使用python的同仁協助\n",
    "\n",
    "#### 預先準備：需先至Azure Databricks首頁上傳兩個檔案\n",
    "1. 上傳主表格，並複製上傳後Databricks所顯示的檔案名稱: /FileStore/tables/ **\"main_table.csv\"**\n",
    "2. 上傳對應的資料型別表，並複製上傳後Databricks所顯示的檔案名稱: /FileStore/tables/ **\"datatype_table.csv\"**\n",
    "  - **注意：欄位名稱必須包含COLUMN_NAME,TYPE_NAME**\n",
    "  - **注意：資料型別表(datatype table)中的欄位順序要和主表格欄位順序完全一致**\n",
    "  \n",
    "  \n",
    "@ version: 2020-08-30"
   ]
  },
  {
   "cell_type": "code",
   "execution_count": 0,
   "metadata": {
    "application/vnd.databricks.v1+cell": {
     "inputWidgets": {},
     "nuid": "11eef0eb-6e84-41c9-9d76-41b795eabfd8",
     "showTitle": true,
     "title": "Step 0 - 初始化此筆記本"
    }
   },
   "outputs": [
    {
     "data": {
      "text/html": [
       "<style scoped>\n",
       "  .ansiout {\n",
       "    display: block;\n",
       "    unicode-bidi: embed;\n",
       "    white-space: pre-wrap;\n",
       "    word-wrap: break-word;\n",
       "    word-break: break-all;\n",
       "    font-family: \"Source Code Pro\", \"Menlo\", monospace;;\n",
       "    font-size: 13px;\n",
       "    color: #555;\n",
       "    margin-left: 4px;\n",
       "    line-height: 19px;\n",
       "  }\n",
       "</style>"
      ]
     },
     "metadata": {
      "application/vnd.databricks.v1+output": {
       "arguments": {},
       "data": "",
       "errorSummary": "",
       "type": "ipynbError"
      }
     },
     "output_type": "display_data"
    }
   ],
   "source": [
    "#import package\n",
    "from pyspark.sql.types import *\n",
    "from pyspark.sql.functions import *\n",
    "\n",
    "#remove all widgets\n",
    "dbutils.widgets.removeAll()"
   ]
  },
  {
   "cell_type": "markdown",
   "metadata": {
    "application/vnd.databricks.v1+cell": {
     "inputWidgets": {},
     "nuid": "0ec7b7ee-1d7c-499f-8936-4a30210fa37b",
     "showTitle": false,
     "title": ""
    }
   },
   "source": [
    "## Step 1 - 讀入主表格"
   ]
  },
  {
   "cell_type": "code",
   "execution_count": 0,
   "metadata": {
    "application/vnd.databricks.v1+cell": {
     "inputWidgets": {},
     "nuid": "dc13d794-4bb5-4f0f-9beb-a3acda8f74f4",
     "showTitle": true,
     "title": "Step 1-1 - 跑完此欄後，在上方填入主檔案的檔案類型、檔案編碼、分隔符號等資訊"
    }
   },
   "outputs": [
    {
     "data": {
      "text/html": [
       "<style scoped>\n",
       "  .ansiout {\n",
       "    display: block;\n",
       "    unicode-bidi: embed;\n",
       "    white-space: pre-wrap;\n",
       "    word-wrap: break-word;\n",
       "    word-break: break-all;\n",
       "    font-family: \"Source Code Pro\", \"Menlo\", monospace;;\n",
       "    font-size: 13px;\n",
       "    color: #555;\n",
       "    margin-left: 4px;\n",
       "    line-height: 19px;\n",
       "  }\n",
       "</style>"
      ]
     },
     "metadata": {
      "application/vnd.databricks.v1+output": {
       "arguments": {},
       "data": "",
       "errorSummary": "",
       "type": "ipynbError"
      }
     },
     "output_type": "display_data"
    }
   ],
   "source": [
    "dbutils.widgets.removeAll()\n",
    "#parameters for dataset\n",
    "#創建Widget小工具\n",
    "TFLst = [\"true\",\"false\"]\n",
    "FormatLst = ['csv','text','json']\n",
    "\n",
    "dbutils.widgets.text(\"FileName\",\"main_table.csv\")\n",
    "dbutils.widgets.dropdown(\"FileFormat\",\"csv\",FormatLst)\n",
    "dbutils.widgets.dropdown(\"Header\", \"true\", TFLst)\n",
    "dbutils.widgets.text(\"Encoding\",\"utf8\")\n",
    "dbutils.widgets.text(\"Delimiter\",\",\")"
   ]
  },
  {
   "cell_type": "code",
   "execution_count": 0,
   "metadata": {
    "application/vnd.databricks.v1+cell": {
     "inputWidgets": {},
     "nuid": "1f1aaf5e-15a3-4f27-9e07-719e5e9018e1",
     "showTitle": true,
     "title": "Step 1-2 - 檢視讀入的主表格，如有錯誤，則修改上方參數再重跑此欄即可"
    }
   },
   "outputs": [
    {
     "data": {
      "text/html": [
       "<style scoped>\n",
       "  .ansiout {\n",
       "    display: block;\n",
       "    unicode-bidi: embed;\n",
       "    white-space: pre-wrap;\n",
       "    word-wrap: break-word;\n",
       "    word-break: break-all;\n",
       "    font-family: \"Source Code Pro\", \"Menlo\", monospace;;\n",
       "    font-size: 13px;\n",
       "    color: #555;\n",
       "    margin-left: 4px;\n",
       "    line-height: 19px;\n",
       "  }\n",
       "</style>"
      ]
     },
     "metadata": {
      "application/vnd.databricks.v1+output": {
       "arguments": {},
       "data": "",
       "errorSummary": "",
       "type": "ipynbError"
      }
     },
     "output_type": "display_data"
    }
   ],
   "source": [
    "#印出小工具內容物\n",
    "FILENAME = dbutils.widgets.get(\"FileName\")\n",
    "FILEFORMAT = dbutils.widgets.get(\"FileFormat\")\n",
    "HEADER = dbutils.widgets.get(\"Header\")\n",
    "ENCODING = dbutils.widgets.get(\"Encoding\")\n",
    "DELIMITER = dbutils.widgets.get(\"Delimiter\")\n",
    "\n",
    "print('上傳後的檔案名稱:', FILENAME)\n",
    "print('檔案類型:', FILEFORMAT)\n",
    "print('讀入column名稱:',HEADER)\n",
    "print('檔案編碼:',ENCODING)\n",
    "print('分隔符號:',DELIMITER)\n",
    "print('====若有輸入錯誤，上方小工具更正後，重跑此cell即可====')\n",
    "\n",
    "\n",
    "#用上面的小工具讀入file content\n",
    "df = spark.read.format(FILEFORMAT).options(header = HEADER,#是否具有表頭\n",
    "                                           inferSchema = \"true\",#是否需要自動辨識data type\n",
    "                                           encoding= ENCODING, #指定文檔編碼\n",
    "                                           delimiter = DELIMITER\n",
    "                                          ).load(\"/FileStore/tables/\"+FILENAME)\n",
    "#display df\n",
    "display(df)\n",
    "\n",
    "\n",
    "#get parameters for futher use\n",
    "#get File Name as DatasetName (as the default value when creating the widgt for writing dataset name ) \n",
    "DatasetName = dbutils.widgets.get(\"FileName\")"
   ]
  },
  {
   "cell_type": "markdown",
   "metadata": {
    "application/vnd.databricks.v1+cell": {
     "inputWidgets": {},
     "nuid": "f49fb70a-ab35-45e4-8f1e-a1c16ef64396",
     "showTitle": false,
     "title": ""
    }
   },
   "source": [
    "## Step 2 - 讀入資料型別對照表"
   ]
  },
  {
   "cell_type": "code",
   "execution_count": 0,
   "metadata": {
    "application/vnd.databricks.v1+cell": {
     "inputWidgets": {},
     "nuid": "f7240dc9-68f3-4f75-a4e2-db56cfd1400c",
     "showTitle": true,
     "title": "Step 2-1 - 跑完此欄後，在上方填入資料型別檔案的檔案類型、檔案編碼、分隔符號等資訊"
    }
   },
   "outputs": [
    {
     "data": {
      "text/html": [
       "<style scoped>\n",
       "  .ansiout {\n",
       "    display: block;\n",
       "    unicode-bidi: embed;\n",
       "    white-space: pre-wrap;\n",
       "    word-wrap: break-word;\n",
       "    word-break: break-all;\n",
       "    font-family: \"Source Code Pro\", \"Menlo\", monospace;;\n",
       "    font-size: 13px;\n",
       "    color: #555;\n",
       "    margin-left: 4px;\n",
       "    line-height: 19px;\n",
       "  }\n",
       "</style>"
      ]
     },
     "metadata": {
      "application/vnd.databricks.v1+output": {
       "arguments": {},
       "data": "",
       "errorSummary": "",
       "type": "ipynbError"
      }
     },
     "output_type": "display_data"
    }
   ],
   "source": [
    "#remove all widgets\n",
    "dbutils.widgets.removeAll()\n",
    "\n",
    "#parameters  for datatype table\n",
    "#創建Widget小工具\n",
    "TFLst = [\"true\",\"false\"]\n",
    "FormatLst = ['csv','text','json']\n",
    "dbutils.widgets.text(\"DataTypeFileName\",\"datatype_table.csv\")\n",
    "dbutils.widgets.dropdown(\"DataTypeFileFormat\",\"csv\",FormatLst)\n",
    "dbutils.widgets.dropdown(\"DataTypeFileHeader\", \"true\", TFLst)\n",
    "dbutils.widgets.text(\"DataTypeFileEncoding\",\"utf8\")\n",
    "dbutils.widgets.text(\"DataTypeFileDelimiter\",\",\")"
   ]
  },
  {
   "cell_type": "code",
   "execution_count": 0,
   "metadata": {
    "application/vnd.databricks.v1+cell": {
     "inputWidgets": {},
     "nuid": "333c23a1-fa8b-45f4-b911-b555e9f82d50",
     "showTitle": true,
     "title": "Step 2-2 - 檢視讀入的資料型別表，如有錯誤，則修改上方參數再重跑此欄即可"
    }
   },
   "outputs": [
    {
     "data": {
      "text/html": [
       "<style scoped>\n",
       "  .ansiout {\n",
       "    display: block;\n",
       "    unicode-bidi: embed;\n",
       "    white-space: pre-wrap;\n",
       "    word-wrap: break-word;\n",
       "    word-break: break-all;\n",
       "    font-family: \"Source Code Pro\", \"Menlo\", monospace;;\n",
       "    font-size: 13px;\n",
       "    color: #555;\n",
       "    margin-left: 4px;\n",
       "    line-height: 19px;\n",
       "  }\n",
       "</style>"
      ]
     },
     "metadata": {
      "application/vnd.databricks.v1+output": {
       "arguments": {},
       "data": "",
       "errorSummary": "",
       "type": "ipynbError"
      }
     },
     "output_type": "display_data"
    }
   ],
   "source": [
    "#印出小工具內容物\n",
    "DataTypeFILENAME = dbutils.widgets.get(\"DataTypeFileName\")\n",
    "DataTypeFILEFORMAT = dbutils.widgets.get(\"DataTypeFileFormat\")\n",
    "DataTypeHEADER = dbutils.widgets.get(\"DataTypeFileHeader\")\n",
    "DataTypeENCODING = dbutils.widgets.get(\"DataTypeFileEncoding\")\n",
    "DataTypeDELIMITER = dbutils.widgets.get(\"DataTypeFileDelimiter\")\n",
    "\n",
    "print('上傳後的檔案名稱:', DataTypeFILENAME)\n",
    "print('檔案類型:', DataTypeFILEFORMAT)\n",
    "print('讀入column名稱:',DataTypeHEADER)\n",
    "print('檔案編碼:',DataTypeENCODING)\n",
    "print('分隔符號:',DataTypeDELIMITER)\n",
    "print('====若有輸入錯誤，上方小工具更正後，重跑此cell即可====')\n",
    "\n",
    "\n",
    "#用上面的小工具讀入file content\n",
    "DataType_df = spark.read.format(DataTypeFILEFORMAT).options(header = DataTypeHEADER,#是否具有表頭\n",
    "                                           inferSchema = \"true\",#是否需要自動辨識data type\n",
    "                                           encoding= DataTypeENCODING, #指定文檔編碼\n",
    "                                           delimiter = DataTypeDELIMITER\n",
    "                                          ).load(\"/FileStore/tables/\"+DataTypeFILENAME)\n",
    "\n",
    "#DatasetName = dbutils.widgets.get(\"FileName\")\n",
    "display(DataType_df)"
   ]
  },
  {
   "cell_type": "markdown",
   "metadata": {
    "application/vnd.databricks.v1+cell": {
     "inputWidgets": {},
     "nuid": "47040e32-b7eb-40cd-bd7a-b9b1a6f63fe6",
     "showTitle": false,
     "title": ""
    }
   },
   "source": [
    "## Step 3 - 以資料型別對照表校正後，呈現主表格改動後的資料型態"
   ]
  },
  {
   "cell_type": "code",
   "execution_count": 0,
   "metadata": {
    "application/vnd.databricks.v1+cell": {
     "inputWidgets": {},
     "nuid": "97c89597-2325-449d-be0e-bc522aea2922",
     "showTitle": true,
     "title": "Step 3-1 - 呈現主表格的欄位名稱以及預計的資料型別，如遇錯誤，需檢查資料型別對照表的欄位數量或是資料內容"
    }
   },
   "outputs": [
    {
     "data": {
      "text/html": [
       "<style scoped>\n",
       "  .ansiout {\n",
       "    display: block;\n",
       "    unicode-bidi: embed;\n",
       "    white-space: pre-wrap;\n",
       "    word-wrap: break-word;\n",
       "    word-break: break-all;\n",
       "    font-family: \"Source Code Pro\", \"Menlo\", monospace;;\n",
       "    font-size: 13px;\n",
       "    color: #555;\n",
       "    margin-left: 4px;\n",
       "    line-height: 19px;\n",
       "  }\n",
       "</style>"
      ]
     },
     "metadata": {
      "application/vnd.databricks.v1+output": {
       "arguments": {},
       "data": "",
       "errorSummary": "",
       "type": "ipynbError"
      }
     },
     "output_type": "display_data"
    }
   ],
   "source": [
    "#create a list for linking main table column name and data type content\n",
    "ColLst = []\n",
    "for c in range(len(df.schema.fields)):\n",
    "  ColLst.append((c+1,\n",
    "                  df.schema.fields[c].name,\n",
    "                  DataType_df.select(\"TYPE_NAME\").collect()[c].TYPE_NAME))\n",
    "  \n",
    "\n",
    "#display the linked result\n",
    "ColLstDF =spark.createDataFrame(ColLst,[\"#\",\n",
    "                                        \"主表格欄位名稱\",\n",
    "                                       #\"datatype_df Col Name\",\n",
    "                                        \"預計的資料型別\"])\n",
    "ColLstDF.show(10000,False)"
   ]
  },
  {
   "cell_type": "code",
   "execution_count": 0,
   "metadata": {
    "application/vnd.databricks.v1+cell": {
     "inputWidgets": {},
     "nuid": "c94253a5-261d-46bb-9576-e064ce608a01",
     "showTitle": true,
     "title": "Step 3-2 - 在上方選單中指定每一種資料型別要分別對照哪一個新的data type"
    }
   },
   "outputs": [
    {
     "data": {
      "text/html": [
       "<style scoped>\n",
       "  .ansiout {\n",
       "    display: block;\n",
       "    unicode-bidi: embed;\n",
       "    white-space: pre-wrap;\n",
       "    word-wrap: break-word;\n",
       "    word-break: break-all;\n",
       "    font-family: \"Source Code Pro\", \"Menlo\", monospace;;\n",
       "    font-size: 13px;\n",
       "    color: #555;\n",
       "    margin-left: 4px;\n",
       "    line-height: 19px;\n",
       "  }\n",
       "</style>"
      ]
     },
     "metadata": {
      "application/vnd.databricks.v1+output": {
       "arguments": {},
       "data": "",
       "errorSummary": "",
       "type": "ipynbError"
      }
     },
     "output_type": "display_data"
    }
   ],
   "source": [
    "#get distinct DF data type as a python list\n",
    "DistinctTypeLst = [i.TYPE_NAME for i in DataType_df.select('TYPE_NAME').distinct().collect()]\n",
    "\n",
    "\n",
    "#create a list that contains spark data types\n",
    "TypeLst = [\n",
    "  'ByteType',\n",
    "  'ShortType',\n",
    "  'IntegerType',\n",
    "  'LongType',\n",
    "  'FloatType',\n",
    "  'DoubleType',\n",
    "  #'DecimalType(n,0)',\n",
    "  'StringType',\n",
    "  'BinaryType',\n",
    "  'BooleanType',\n",
    "  'TimestampType',\n",
    "  'DateType',\n",
    "  #'ArrayType',\n",
    "  #'MapType',\n",
    "  #'StructType',\n",
    "  #'StructField'\n",
    "]\n",
    "\n",
    "TypeLst.sort()\n",
    "\n",
    "#remove widgets for data import\n",
    "dbutils.widgets.removeAll()\n",
    "\n",
    "#create widget for data type \n",
    "for n in range(len(DistinctTypeLst)):\n",
    "  dbutils.widgets.combobox(DistinctTypeLst[n],TypeLst[0], TypeLst)"
   ]
  },
  {
   "cell_type": "code",
   "execution_count": 0,
   "metadata": {
    "application/vnd.databricks.v1+cell": {
     "inputWidgets": {},
     "nuid": "8f340bf5-6274-48df-9b59-4ea1182e56b6",
     "showTitle": true,
     "title": "Step 3-3 - 檢查主表格更改資料型別後的樣貌，如遇錯誤，需檢查資料型別對照表的內容正確性"
    }
   },
   "outputs": [
    {
     "data": {
      "text/html": [
       "<style scoped>\n",
       "  .ansiout {\n",
       "    display: block;\n",
       "    unicode-bidi: embed;\n",
       "    white-space: pre-wrap;\n",
       "    word-wrap: break-word;\n",
       "    word-break: break-all;\n",
       "    font-family: \"Source Code Pro\", \"Menlo\", monospace;;\n",
       "    font-size: 13px;\n",
       "    color: #555;\n",
       "    margin-left: 4px;\n",
       "    line-height: 19px;\n",
       "  }\n",
       "</style>"
      ]
     },
     "metadata": {
      "application/vnd.databricks.v1+output": {
       "arguments": {},
       "data": "",
       "errorSummary": "",
       "type": "ipynbError"
      }
     },
     "output_type": "display_data"
    }
   ],
   "source": [
    "#create a dictionery for changing widget string to function name: \n",
    "Dic = {\n",
    "  'ByteType':ByteType(),\n",
    "  'ShortType':ShortType(),\n",
    "  'IntegerType':IntegerType(),\n",
    "  'LongType':LongType(),\n",
    "  'FloatType':FloatType(),\n",
    "  'DoubleType':DoubleType(),\n",
    "  #'DecimalType':DecimalType(),\n",
    "  'StringType':StringType(),\n",
    "  'BinaryType':BinaryType(),\n",
    "  'BooleanType':BooleanType(),\n",
    "  'TimestampType':TimestampType(),\n",
    "  'DateType':DateType(),\n",
    "  #'ArrayType':ArrayType(),\n",
    "  #'MapType':MapType(),\n",
    "  #'StructType':StructType(),\n",
    "  #'StructField':StructField()\n",
    "}\n",
    "\n",
    "\n",
    "#modify schema in a new dataframe\n",
    "##column name: DFScheLst[n][0]\n",
    "##DF data type: DFScheLst[n][1]\n",
    "##new data type: dbutils.widgets.get(DFScheLst[n][0])\n",
    "##transform data type name to function: Dic[dbutils.widgets.get(DFScheLst[n][0])]\n",
    "\n",
    "df_2 = df\n",
    "for n in range(len(ColLst)):\n",
    "  df_2 = (df_2.withColumn(ColLst[n][1],df[ColLst[n][1]].cast(Dic[dbutils.widgets.get(ColLst[n][2])]))\n",
    "         ) \n",
    "\n",
    "print('====預覽轉換過的資料表樣式====')\n",
    "display(df_2)"
   ]
  },
  {
   "cell_type": "markdown",
   "metadata": {
    "application/vnd.databricks.v1+cell": {
     "inputWidgets": {},
     "nuid": "59b9a606-84a7-4c44-9c10-90eb643d5dd2",
     "showTitle": false,
     "title": ""
    }
   },
   "source": [
    "## optional step - drop 不需要寫入資料庫的欄位"
   ]
  },
  {
   "cell_type": "code",
   "execution_count": 0,
   "metadata": {
    "application/vnd.databricks.v1+cell": {
     "inputWidgets": {},
     "nuid": "bc3d4e9a-3d34-45bc-844c-64c9e96cff03",
     "showTitle": true,
     "title": "optional step 1 - 在上方輸入需drop的欄位名稱"
    }
   },
   "outputs": [
    {
     "data": {
      "text/html": [
       "<style scoped>\n",
       "  .ansiout {\n",
       "    display: block;\n",
       "    unicode-bidi: embed;\n",
       "    white-space: pre-wrap;\n",
       "    word-wrap: break-word;\n",
       "    word-break: break-all;\n",
       "    font-family: \"Source Code Pro\", \"Menlo\", monospace;;\n",
       "    font-size: 13px;\n",
       "    color: #555;\n",
       "    margin-left: 4px;\n",
       "    line-height: 19px;\n",
       "  }\n",
       "</style>"
      ]
     },
     "metadata": {
      "application/vnd.databricks.v1+output": {
       "arguments": {},
       "data": "",
       "errorSummary": "",
       "type": "ipynbError"
      }
     },
     "output_type": "display_data"
    }
   ],
   "source": [
    "dbutils.widgets.removeAll()\n",
    "dbutils.widgets.text(\"drop this column\",\"column name\")\n",
    "drop_col = dbutils.widgets.get(\"drop this column\")\n",
    "print('drop column: ',drop_col)"
   ]
  },
  {
   "cell_type": "code",
   "execution_count": 0,
   "metadata": {
    "application/vnd.databricks.v1+cell": {
     "inputWidgets": {},
     "nuid": "886863c0-ce53-4f20-9a1f-aa6f74fdf8ee",
     "showTitle": true,
     "title": "optional step 2 - drop 指定欄位並展示資料表"
    }
   },
   "outputs": [
    {
     "data": {
      "text/html": [
       "<style scoped>\n",
       "  .ansiout {\n",
       "    display: block;\n",
       "    unicode-bidi: embed;\n",
       "    white-space: pre-wrap;\n",
       "    word-wrap: break-word;\n",
       "    word-break: break-all;\n",
       "    font-family: \"Source Code Pro\", \"Menlo\", monospace;;\n",
       "    font-size: 13px;\n",
       "    color: #555;\n",
       "    margin-left: 4px;\n",
       "    line-height: 19px;\n",
       "  }\n",
       "</style>"
      ]
     },
     "metadata": {
      "application/vnd.databricks.v1+output": {
       "arguments": {},
       "data": "",
       "errorSummary": "",
       "type": "ipynbError"
      }
     },
     "output_type": "display_data"
    }
   ],
   "source": [
    "df_2 = df_2.drop(drop_col)\n",
    "display(df_2)"
   ]
  },
  {
   "cell_type": "markdown",
   "metadata": {
    "application/vnd.databricks.v1+cell": {
     "inputWidgets": {},
     "nuid": "1acf617c-3c55-4d98-aa27-a8ac66e1861d",
     "showTitle": false,
     "title": ""
    }
   },
   "source": [
    "## Step 4 - 將表格寫入至資料庫"
   ]
  },
  {
   "cell_type": "code",
   "execution_count": 0,
   "metadata": {
    "application/vnd.databricks.v1+cell": {
     "inputWidgets": {},
     "nuid": "bf26fd0c-694f-469d-8ffe-34bcba16d3f1",
     "showTitle": true,
     "title": "Step 4-1 - 在上方輸入欲寫入的資料庫名稱、表格名稱、寫入模式"
    }
   },
   "outputs": [
    {
     "data": {
      "text/html": [
       "<style scoped>\n",
       "  .ansiout {\n",
       "    display: block;\n",
       "    unicode-bidi: embed;\n",
       "    white-space: pre-wrap;\n",
       "    word-wrap: break-word;\n",
       "    word-break: break-all;\n",
       "    font-family: \"Source Code Pro\", \"Menlo\", monospace;;\n",
       "    font-size: 13px;\n",
       "    color: #555;\n",
       "    margin-left: 4px;\n",
       "    line-height: 19px;\n",
       "  }\n",
       "</style>"
      ]
     },
     "metadata": {
      "application/vnd.databricks.v1+output": {
       "arguments": {},
       "data": "",
       "errorSummary": "",
       "type": "ipynbError"
      }
     },
     "output_type": "display_data"
    }
   ],
   "source": [
    "#check file name\n",
    "dbutils.widgets.removeAll()\n",
    "TableName = DatasetName[:-4]\n",
    "WriteModeLst = ['append','overwrite','ignore','error']\n",
    "\n",
    "#create widget\n",
    "dbutils.widgets.text(\"InputTableName\",TableName)\n",
    "dbutils.widgets.text(\"InputDBName\",\"自家單位使用的資料庫名稱\")\n",
    "dbutils.widgets.dropdown(\"WriteMode\",\"overwrite\",WriteModeLst)\n",
    "\n",
    "#get input names\n",
    "INPPUTDB = dbutils.widgets.get(\"InputDBName\")\n",
    "INPUTTABLE = dbutils.widgets.get(\"InputTableName\")\n",
    "WRITEMODE = dbutils.widgets.get(\"WriteMode\")\n",
    "\n",
    "#print input names\n",
    "print('寫入資料庫:', INPPUTDB)\n",
    "print('寫入資料表名稱:', INPUTTABLE)\n",
    "print('寫入模式:', WRITEMODE)"
   ]
  },
  {
   "cell_type": "code",
   "execution_count": 0,
   "metadata": {
    "application/vnd.databricks.v1+cell": {
     "inputWidgets": {},
     "nuid": "53a9b680-7db3-45f8-a93f-3fa32513888a",
     "showTitle": true,
     "title": "Step 4-2 - 寫入至指定資料庫，如遇錯誤，表示已有表格用同名，可先drop table或換一個新名字"
    }
   },
   "outputs": [
    {
     "data": {
      "text/html": [
       "<style scoped>\n",
       "  .ansiout {\n",
       "    display: block;\n",
       "    unicode-bidi: embed;\n",
       "    white-space: pre-wrap;\n",
       "    word-wrap: break-word;\n",
       "    word-break: break-all;\n",
       "    font-family: \"Source Code Pro\", \"Menlo\", monospace;;\n",
       "    font-size: 13px;\n",
       "    color: #555;\n",
       "    margin-left: 4px;\n",
       "    line-height: 19px;\n",
       "  }\n",
       "</style>"
      ]
     },
     "metadata": {
      "application/vnd.databricks.v1+output": {
       "arguments": {},
       "data": "",
       "errorSummary": "",
       "type": "ipynbError"
      }
     },
     "output_type": "display_data"
    }
   ],
   "source": [
    "#write to database\n",
    "df_2.write.format('delta').saveAsTable(INPPUTDB+'.'+INPUTTABLE,mode = WRITEMODE)"
   ]
  }
 ],
 "metadata": {
  "application/vnd.databricks.v1+notebook": {
   "dashboards": [],
   "language": "python",
   "notebookName": "Tool Sharing - 網頁上傳表格-對照校正法",
   "notebookOrigID": 661619342281496,
   "widgets": {}
  },
  "kernelspec": {
   "display_name": "Python 3",
   "language": "python",
   "name": "python3"
  },
  "language_info": {
   "codemirror_mode": {
    "name": "ipython",
    "version": 3
   },
   "file_extension": ".py",
   "mimetype": "text/x-python",
   "name": "python",
   "nbconvert_exporter": "python",
   "pygments_lexer": "ipython3",
   "version": "3.7.1"
  }
 },
 "nbformat": 4,
 "nbformat_minor": 1
}
